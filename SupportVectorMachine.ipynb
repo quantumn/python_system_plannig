{
 "cells": [
  {
   "cell_type": "code",
   "execution_count": null,
   "metadata": {
    "collapsed": true
   },
   "outputs": [],
   "source": [
    "# -*- coding: utf-8 -*-\n",
    "\n",
    "import matplotlib.pyplot as plt\n",
    "from sklearn import datasets\n",
    "from sklearn import svm\n",
    "from sklearn.metrics import accuracy_score, confusion_matrix\n",
    "from sklearn.metrics import precision_score, recall_score, f1_score\n",
    "\n",
    "# 手書き数字データの読み込み\n",
    "digits = datasets.load_digits()\n",
    "\n",
    "# 画像を 2 行 5 列に表示\n",
    "for label, img in zip(digits.target[:10], digits.images[:10]):\n",
    "    plt.subplot(2, 5, label + 1)\n",
    "    plt.axis('off')\n",
    "    plt.imshow(img, cmap=plt.cm.gray_r, interpolation='nearest')\n",
    "    plt.title('Digit: {0}'.format(label))\n",
    "plt.show()\n",
    "\n",
    "# 3 と 8 のデータ位置を求める\n",
    "flag_3_8 = (digits.target == 3) + (digits.target == 8)\n",
    "\n",
    "# 3 と 8 のデータを取得\n",
    "images = digits.images[flag_3_8]\n",
    "labels = digits.target[flag_3_8]\n",
    "\n",
    "# 3 と 8 の画像データを 1 次元化\n",
    "images = images.reshape(images.shape[0], -1)\n",
    "\n",
    "# 分類器の生成\n",
    "n_samples = len(flag_3_8[flag_3_8])\n",
    "train_size = int(n_samples * 3 / 5)\n",
    "classifier = svm.SVC(C = 1.0, gamma = 0.001)\n",
    "classifier.fit(images[:train_size], labels[:train_size])\n",
    "\n",
    "# 分類器の性能の確認\n",
    "expected = labels[train_size:]\n",
    "predicted = classifier.predict(images[train_size:])\n",
    "\n",
    "print('Accuracy:\\n',\n",
    "      accuracy_score(expected, predicted))\n",
    "print('Confusion matrix:\\n',\n",
    "      confusion_matrix(expected, predicted))\n",
    "print('Precision:\\n',\n",
    "      precision_score(expected, predicted, pos_label=3))\n",
    "print('Recall:\\n',\n",
    "      recall_score(expected, predicted, pos_label=3))\n",
    "print('F-measure:\\n',\n",
    "      f1_score(expected, predicted, pos_label=3))"
   ]
  }
 ],
 "metadata": {
  "kernelspec": {
   "display_name": "Python [default]",
   "language": "python",
   "name": "python3"
  },
  "language_info": {
   "codemirror_mode": {
    "name": "ipython",
    "version": 3
   },
   "file_extension": ".py",
   "mimetype": "text/x-python",
   "name": "python",
   "nbconvert_exporter": "python",
   "pygments_lexer": "ipython3",
   "version": "3.5.2"
  }
 },
 "nbformat": 4,
 "nbformat_minor": 1
}
